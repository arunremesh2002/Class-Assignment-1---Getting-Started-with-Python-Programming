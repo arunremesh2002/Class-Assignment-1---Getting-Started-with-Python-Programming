{
  "nbformat": 4,
  "nbformat_minor": 0,
  "metadata": {
    "colab": {
      "name": "Untitled10.ipynb",
      "provenance": [],
      "authorship_tag": "ABX9TyPedyEM48QRybxIteHcYLY/",
      "include_colab_link": true
    },
    "kernelspec": {
      "name": "python3",
      "display_name": "Python 3"
    }
  },
  "cells": [
    {
      "cell_type": "markdown",
      "metadata": {
        "id": "view-in-github",
        "colab_type": "text"
      },
      "source": [
        "<a href=\"https://colab.research.google.com/github/arunremesh2002/Class-Assignment-1---Getting-Started-with-Python-Programming/blob/master/Untitled10.ipynb\" target=\"_parent\"><img src=\"https://colab.research.google.com/assets/colab-badge.svg\" alt=\"Open In Colab\"/></a>"
      ]
    },
    {
      "cell_type": "code",
      "metadata": {
        "id": "2YjNO2hj1CyU"
      },
      "source": [
        "#Write a Python code to Find the Largest Among Three Numbers\n",
        "a=int(input(\"enter first number\"))\n",
        "b=int(input(\"enter second number\"))\n",
        "c=int(input(\"enter third number\"))\n",
        "if((a>b)&(a>c)):\n",
        "  print(\"a is greater\")\n",
        "elif((b>a)&(b>c)):\n",
        "  print(\"b is greater\")\n",
        "elif((c>a)&(c>b)):\n",
        "  print(\"c is greater\")\n",
        "elif((a==b)&(b==c)):\n",
        "  print(\"all are equal\")"
      ],
      "execution_count": null,
      "outputs": []
    }
  ]
}