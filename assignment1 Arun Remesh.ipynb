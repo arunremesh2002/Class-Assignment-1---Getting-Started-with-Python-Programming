{
  "nbformat": 4,
  "nbformat_minor": 0,
  "metadata": {
    "colab": {
      "name": "Untitled0.ipynb",
      "provenance": [],
      "authorship_tag": "ABX9TyNa786sokK5ee8owDNZSYnr",
      "include_colab_link": true
    },
    "kernelspec": {
      "name": "python3",
      "display_name": "Python 3"
    }
  },
  "cells": [
    {
      "cell_type": "markdown",
      "metadata": {
        "id": "view-in-github",
        "colab_type": "text"
      },
      "source": [
        "<a href=\"https://colab.research.google.com/github/arunremesh2002/Class-Assignment-1---Getting-Started-with-Python-Programming/blob/master/Untitled0.ipynb\" target=\"_parent\"><img src=\"https://colab.research.google.com/assets/colab-badge.svg\" alt=\"Open In Colab\"/></a>"
      ]
    },
    {
      "cell_type": "code",
      "metadata": {
        "id": "JJfupF1k7Q8T",
        "colab_type": "code",
        "colab": {
          "base_uri": "https://localhost:8080/",
          "height": 67
        },
        "outputId": "31234f50-2632-49e4-e5bf-c0a9f721d697"
      },
      "source": [
        "#Question 1\n",
        "print('Name : Arun Remesh')\n",
        "print('Adress : payambra,calicut')\n",
        "print('Phone number : 8304823716')"
      ],
      "execution_count": 1,
      "outputs": [
        {
          "output_type": "stream",
          "text": [
            "Name : Arun Remesh\n",
            "Adress : payambra,calicut\n",
            "Phone number : 8304823716\n"
          ],
          "name": "stdout"
        }
      ]
    },
    {
      "cell_type": "code",
      "metadata": {
        "id": "yeW1sXDU9rtR",
        "colab_type": "code",
        "colab": {
          "base_uri": "https://localhost:8080/",
          "height": 50
        },
        "outputId": "5270bf6e-d232-4429-bc0e-df7165e11ac1"
      },
      "source": [
        "#Question 2\n",
        "name=input('Enter your name :')\n",
        "print('Your name is :',name)"
      ],
      "execution_count": 3,
      "outputs": [
        {
          "output_type": "stream",
          "text": [
            "Enter your name :Arun Remesh\n",
            "Your name is : Arun Remesh\n"
          ],
          "name": "stdout"
        }
      ]
    },
    {
      "cell_type": "code",
      "metadata": {
        "id": "mh_GtMWq-igQ",
        "colab_type": "code",
        "colab": {
          "base_uri": "https://localhost:8080/",
          "height": 67
        },
        "outputId": "238024b7-8d65-462a-cbc8-f34a43996165"
      },
      "source": [
        "#Question 3\n",
        "length=float (input('Enter the length of rectangle :'))\n",
        "breadth=float (input('Enter breadth of rectangle : '))\n",
        "area=length*breadth\n",
        "print('Area of rectangle :',area)\n"
      ],
      "execution_count": 4,
      "outputs": [
        {
          "output_type": "stream",
          "text": [
            "Enter the length of rectangle :8\n",
            "Enter breadth of rectangle : 3\n",
            "Area of rectangle : 24.0\n"
          ],
          "name": "stdout"
        }
      ]
    },
    {
      "cell_type": "code",
      "metadata": {
        "id": "CE4lpYZe_w40",
        "colab_type": "code",
        "colab": {
          "base_uri": "https://localhost:8080/",
          "height": 67
        },
        "outputId": "30444e08-819c-4dee-abfd-ab936dc235eb"
      },
      "source": [
        "#Question 4\n",
        "base=float(input('Enter the height of triangle :'))\n",
        "height=float(input('Énter the base of triangle :'))\n",
        "area=.5*base*height\n",
        "print('Are of triangle is : ',area)"
      ],
      "execution_count": 6,
      "outputs": [
        {
          "output_type": "stream",
          "text": [
            "Enter the height of triangle :5\n",
            "Énter the base of triangle :2\n",
            "Are of triangle is :  5.0\n"
          ],
          "name": "stdout"
        }
      ]
    },
    {
      "cell_type": "code",
      "metadata": {
        "id": "ZZ1U-TwqA73B",
        "colab_type": "code",
        "colab": {
          "base_uri": "https://localhost:8080/",
          "height": 50
        },
        "outputId": "33ad74ec-f149-40e7-f765-fed368d1c24a"
      },
      "source": [
        "#Question 5\n",
        "radius=float(input('énter the radius of the circle : '))\n",
        "area=3.14*radius**2\n",
        "print('the area of circle is :',area)"
      ],
      "execution_count": 9,
      "outputs": [
        {
          "output_type": "stream",
          "text": [
            "énter the radius of the circle : 10\n",
            "the area of circle is : 314.0\n"
          ],
          "name": "stdout"
        }
      ]
    },
    {
      "cell_type": "code",
      "metadata": {
        "id": "v1vadKEEB4n0",
        "colab_type": "code",
        "colab": {
          "base_uri": "https://localhost:8080/",
          "height": 67
        },
        "outputId": "307fa72f-3d93-4a38-f323-8c26ce4489fe"
      },
      "source": [
        "#Question 6\n",
        "name=input('Enter your name :')\n",
        "age=input('Enter your age :')\n",
        "print('Name :',name,'age :',age)"
      ],
      "execution_count": 10,
      "outputs": [
        {
          "output_type": "stream",
          "text": [
            "Enter your name :Arun Remesh\n",
            "Enter your age :18\n",
            "Name : Arun Remesh age : 18\n"
          ],
          "name": "stdout"
        }
      ]
    },
    {
      "cell_type": "code",
      "metadata": {
        "id": "gNvXA8lxCsqx",
        "colab_type": "code",
        "colab": {
          "base_uri": "https://localhost:8080/",
          "height": 229
        },
        "outputId": "8081dc1b-6ece-4466-88db-96e5d0c43ad6"
      },
      "source": [
        "#Question 7\n",
        "number=input('Enter a number :')\n",
        "number=number+1\n",
        "print('one is added to number',number)"
      ],
      "execution_count": 20,
      "outputs": [
        {
          "output_type": "stream",
          "text": [
            "Enter a number :5\n"
          ],
          "name": "stdout"
        },
        {
          "output_type": "error",
          "ename": "TypeError",
          "evalue": "ignored",
          "traceback": [
            "\u001b[0;31m---------------------------------------------------------------------------\u001b[0m",
            "\u001b[0;31mTypeError\u001b[0m                                 Traceback (most recent call last)",
            "\u001b[0;32m<ipython-input-20-0d151d42bd11>\u001b[0m in \u001b[0;36m<module>\u001b[0;34m()\u001b[0m\n\u001b[1;32m      1\u001b[0m \u001b[0;31m#Question 7\u001b[0m\u001b[0;34m\u001b[0m\u001b[0;34m\u001b[0m\u001b[0;34m\u001b[0m\u001b[0m\n\u001b[1;32m      2\u001b[0m \u001b[0mnumber\u001b[0m\u001b[0;34m=\u001b[0m\u001b[0minput\u001b[0m\u001b[0;34m(\u001b[0m\u001b[0;34m'Enter a number :'\u001b[0m\u001b[0;34m)\u001b[0m\u001b[0;34m\u001b[0m\u001b[0;34m\u001b[0m\u001b[0m\n\u001b[0;32m----> 3\u001b[0;31m \u001b[0mnumber\u001b[0m\u001b[0;34m=\u001b[0m\u001b[0mnumber\u001b[0m\u001b[0;34m+\u001b[0m\u001b[0;36m1\u001b[0m\u001b[0;34m\u001b[0m\u001b[0;34m\u001b[0m\u001b[0m\n\u001b[0m\u001b[1;32m      4\u001b[0m \u001b[0mprint\u001b[0m\u001b[0;34m(\u001b[0m\u001b[0;34m'one is added to number'\u001b[0m\u001b[0;34m,\u001b[0m\u001b[0mnumber\u001b[0m\u001b[0;34m)\u001b[0m\u001b[0;34m\u001b[0m\u001b[0;34m\u001b[0m\u001b[0m\n",
            "\u001b[0;31mTypeError\u001b[0m: must be str, not int"
          ]
        }
      ]
    },
    {
      "cell_type": "code",
      "metadata": {
        "id": "c-vGd21MGPXX",
        "colab_type": "code",
        "colab": {
          "base_uri": "https://localhost:8080/",
          "height": 50
        },
        "outputId": "9250bd2f-4381-4566-baa9-f9a94fa72025"
      },
      "source": [
        "#Question 7\n",
        "number=float(input('Enter a number :'))\n",
        "number=number+1\n",
        "print('one is added to number',number)"
      ],
      "execution_count": 21,
      "outputs": [
        {
          "output_type": "stream",
          "text": [
            "Enter a number :5\n",
            "one is added to number 6.0\n"
          ],
          "name": "stdout"
        }
      ]
    },
    {
      "cell_type": "code",
      "metadata": {
        "id": "6Q_HBxO9E5MT",
        "colab_type": "code",
        "colab": {
          "base_uri": "https://localhost:8080/",
          "height": 34
        },
        "outputId": "f040c0f6-0459-474a-ee43-0ccbc87a75d2"
      },
      "source": [
        "#Question 8\n",
        "name=input('Enter first name :')\n"
      ],
      "execution_count": 15,
      "outputs": [
        {
          "output_type": "stream",
          "text": [
            "Enter first name :Arun Remesh\n"
          ],
          "name": "stdout"
        }
      ]
    },
    {
      "cell_type": "code",
      "metadata": {
        "id": "t4sbDgdTGeTy",
        "colab_type": "code",
        "colab": {
          "base_uri": "https://localhost:8080/",
          "height": 50
        },
        "outputId": "7e2daaa6-b368-4e73-c148-6b76562b812f"
      },
      "source": [
        "#Question 8\n",
        "name=input('Enter first name :')\n",
        "print('First name is :',name)"
      ],
      "execution_count": 22,
      "outputs": [
        {
          "output_type": "stream",
          "text": [
            "Enter first name :Arun Remesh\n",
            "First name is : Arun Remesh\n"
          ],
          "name": "stdout"
        }
      ]
    }
  ]
}
